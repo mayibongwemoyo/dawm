{
 "cells": [
  {
   "cell_type": "code",
   "execution_count": 1,
   "id": "edce0cef-7ab8-4209-9907-a9c4b805dab2",
   "metadata": {},
   "outputs": [],
   "source": [
    "%%capture\n",
    "# %% [markdown]\n",
    "# Extended Audio Watermarking Analysis\n",
    "# University of Zimbabwe - Computer Engineering Project \n",
    "# by Mayibongwe Moyo R214568M  \n",
    "# Supervisor: Mr P Worsnop\n",
    "\n",
    "# %% [markdown]\n",
    "# ## 1. Baseline Watermarking (Original Example)\n",
    "# Reproduce the original AudioSeal example with enhanced documentation\n",
    "\n",
    "import sys\n",
    "# Install dependencies with version locking\n",
    "!{sys.executable} -m pip install torchaudio soundfile matplotlib scipy\n",
    "import torch\n",
    "import torchaudio\n",
    "import urllib"
   ]
  },
  {
   "cell_type": "code",
   "execution_count": 2,
   "id": "01c9dff3-c757-4327-ad5f-9c0212244203",
   "metadata": {},
   "outputs": [],
   "source": [
    "# %% [code]\n",
    "def download_sample_audio():\n",
    "    \"\"\"Download LJ-Speech sample with integrity check\"\"\"\n",
    "    url = \"https://keithito.com/LJ-Speech-Dataset/LJ037-0171.wav\"\n",
    "    with open(\"test.wav\", \"wb\") as f:\n",
    "        resp = urllib.request.urlopen(url)\n",
    "        f.write(resp.read())\n",
    "    \n",
    "    # Verify audio properties\n",
    "    wav, sample_rate = torchaudio.load(\"test.wav\")\n",
    "    assert sample_rate == 22050, \"Unexpected sample rate\"\n",
    "    assert wav.shape[1] > 16000, \"Audio too short\"\n",
    "    return wav, sample_rate\n"
   ]
  },
  {
   "cell_type": "code",
   "execution_count": 3,
   "id": "a91fbf0b-ec47-4126-988a-693dd30530f1",
   "metadata": {},
   "outputs": [
    {
     "name": "stdout",
     "output_type": "stream",
     "text": [
      "Original Audio Properties:\n",
      "- Duration: 7.58s\n",
      "- Channels: 1\n",
      "- Sample Rate: 22050Hz\n"
     ]
    }
   ],
   "source": [
    "# %% [code]\n",
    "# Data preparation with academic formatting\n",
    "audio, sr = download_sample_audio()\n",
    "print(f\"Original Audio Properties:\\n- Duration: {audio.shape[1]/sr:.2f}s\\n- Channels: {audio.shape[0]}\\n- Sample Rate: {sr}Hz\")\n"
   ]
  },
  {
   "cell_type": "code",
   "execution_count": 4,
   "id": "86e6297b-d2e5-4971-a47a-b992491ec9ed",
   "metadata": {},
   "outputs": [],
   "source": [
    "# %% [code]\n",
    "# Enhanced visualization function\n",
    "def plot_analysis(waveform, sr, title):\n",
    "    \"\"\"Publication-quality visualization\"\"\"\n",
    "    plt.figure(figsize=(20, 5))\n",
    "    \n",
    "    # Waveform plot\n",
    "    plt.subplot(1, 2, 1)\n",
    "    plt.plot(waveform.numpy().T)\n",
    "    plt.title(f\"{title}\\nTime Domain\", fontsize=14)\n",
    "    plt.xlabel(\"Sample Index\", fontsize=12)\n",
    "    plt.ylabel(\"Amplitude\", fontsize=12)\n",
    "    \n",
    "    # Spectrogram plot\n",
    "    plt.subplot(1, 2, 2)\n",
    "    plt.specgram(waveform.numpy().flatten(), Fs=sr, NFFT=2048)\n",
    "    plt.title(f\"{title}\\nFrequency Domain\", fontsize=14)\n",
    "    plt.xlabel(\"Time (s)\", fontsize=12)\n",
    "    plt.ylabel(\"Frequency (Hz)\", fontsize=12)\n",
    "    \n",
    "    plt.tight_layout()\n",
    "    plt.show()"
   ]
  },
  {
   "cell_type": "code",
   "execution_count": 5,
   "id": "9953c10f-77f5-42ef-86a4-7092c9d76083",
   "metadata": {},
   "outputs": [],
   "source": [
    "# %% [code]\n",
    "# Modified watermarking loop with research metrics\n",
    "def incremental_watermark(audio, sr, num_watermarks=3, alpha=0.15):\n",
    "    \"\"\"Sequential watermark embedding with analysis\"\"\"\n",
    "    from IPython.display import clear_output\n",
    "    from audioseal import AudioSeal\n",
    "    \n",
    "    # Initialize models and storage\n",
    "    generator = AudioSeal.load_generator(\"audioseal_wm_16bits\")\n",
    "    detector = AudioSeal.load_detector(\"audioseal_detector_16bits\")\n",
    "    \n",
    "    watermarked = audio.clone()\n",
    "    results = []\n",
    "    \n",
    "    for i in range(num_watermarks):\n",
    "        # 1. Generate unique message\n",
    "        msg = torch.randint(0, 2, (1, 16))\n",
    "        \n",
    "        # 2. Embed watermark\n",
    "        watermark = generator.get_watermark(\n",
    "            watermarked.unsqueeze(0),\n",
    "            sample_rate=sr,\n",
    "            message=msg\n",
    "        )\n",
    "        watermarked += alpha * watermark.squeeze()\n",
    "        \n",
    "        # 3. Calculate metrics\n",
    "        noise = watermarked - audio\n",
    "        snr = 10 * torch.log10(audio.pow(2).mean() / noise.pow(2).mean())\n",
    "        \n",
    "        # 4. Detect all watermarks\n",
    "        detector_results = []\n",
    "        for m in range(i+1):\n",
    "            detector.message = results[m]['message']\n",
    "            prob, decoded = detector.detect_watermark(\n",
    "                watermarked.unsqueeze(0),\n",
    "                sample_rate=sr\n",
    "            )\n",
    "            ber = (results[m]['message'] != decoded.round()).float().mean()\n",
    "            detector_results.append({\n",
    "                'watermark': m+1,\n",
    "                'ber': ber.item(),\n",
    "                'prob': prob\n",
    "            })\n",
    "        \n",
    "        # 5. Store results\n",
    "        results.append({\n",
    "            'iteration': i+1,\n",
    "            'message': msg,\n",
    "            'snr': snr.item(),\n",
    "            'detections': detector_results\n",
    "        })\n",
    "        \n",
    "        # 6. Dynamic visualization\n",
    "        clear_output(wait=True)\n",
    "        print(f\"After {i+1} watermarks:\")\n",
    "        plot_analysis(watermarked, sr, f\"Iteration {i+1}\")\n",
    "        display(Audio(watermarked.numpy(), rate=sr))\n",
    "        \n",
    "        # 7. Tabular results\n",
    "        print(f\"\\n{' Watermark ':=^40}\")\n",
    "        print(f\"| {'ID':<5} | {'BER':<8} | {'Detection Prob':<14} |\")\n",
    "        for res in detector_results:\n",
    "            print(f\"| {res['watermark']:>3} | {res['ber']:>6.2f} | {res['prob']:>12.2f} |\")\n",
    "        print(f\"\\nSNR: {snr:.2f} dB\\n\")\n",
    "    \n",
    "    return watermarked, results\n"
   ]
  },
  {
   "cell_type": "code",
   "execution_count": 6,
   "id": "5c0973eb-daa5-407e-a2e5-77fcdb5df83a",
   "metadata": {},
   "outputs": [
    {
     "ename": "ValueError",
     "evalue": "not enough values to unpack (expected 3, got 2)",
     "output_type": "error",
     "traceback": [
      "\u001b[31m---------------------------------------------------------------------------\u001b[39m",
      "\u001b[31mValueError\u001b[39m                                Traceback (most recent call last)",
      "\u001b[36mCell\u001b[39m\u001b[36m \u001b[39m\u001b[32mIn[6]\u001b[39m\u001b[32m, line 3\u001b[39m\n\u001b[32m      1\u001b[39m \u001b[38;5;66;03m# %% [code]\u001b[39;00m\n\u001b[32m      2\u001b[39m \u001b[38;5;66;03m# Execute analysis with research parameters\u001b[39;00m\n\u001b[32m----> \u001b[39m\u001b[32m3\u001b[39m final_audio, metrics = \u001b[43mincremental_watermark\u001b[49m\u001b[43m(\u001b[49m\n\u001b[32m      4\u001b[39m \u001b[43m    \u001b[49m\u001b[43maudio\u001b[49m\u001b[43m.\u001b[49m\u001b[43msqueeze\u001b[49m\u001b[43m(\u001b[49m\u001b[32;43m0\u001b[39;49m\u001b[43m)\u001b[49m\u001b[43m,\u001b[49m\u001b[43m  \u001b[49m\u001b[38;5;66;43;03m# Remove channel dimension for processing\u001b[39;49;00m\n\u001b[32m      5\u001b[39m \u001b[43m    \u001b[49m\u001b[43msr\u001b[49m\u001b[43m=\u001b[49m\u001b[32;43m22050\u001b[39;49m\u001b[43m,\u001b[49m\n\u001b[32m      6\u001b[39m \u001b[43m    \u001b[49m\u001b[43mnum_watermarks\u001b[49m\u001b[43m=\u001b[49m\u001b[32;43m3\u001b[39;49m\u001b[43m,\u001b[49m\n\u001b[32m      7\u001b[39m \u001b[43m    \u001b[49m\u001b[43malpha\u001b[49m\u001b[43m=\u001b[49m\u001b[32;43m0.18\u001b[39;49m\n\u001b[32m      8\u001b[39m \u001b[43m)\u001b[49m\n",
      "\u001b[36mCell\u001b[39m\u001b[36m \u001b[39m\u001b[32mIn[5]\u001b[39m\u001b[32m, line 20\u001b[39m, in \u001b[36mincremental_watermark\u001b[39m\u001b[34m(audio, sr, num_watermarks, alpha)\u001b[39m\n\u001b[32m     17\u001b[39m msg = torch.randint(\u001b[32m0\u001b[39m, \u001b[32m2\u001b[39m, (\u001b[32m1\u001b[39m, \u001b[32m16\u001b[39m))\n\u001b[32m     19\u001b[39m \u001b[38;5;66;03m# 2. Embed watermark\u001b[39;00m\n\u001b[32m---> \u001b[39m\u001b[32m20\u001b[39m watermark = \u001b[43mgenerator\u001b[49m\u001b[43m.\u001b[49m\u001b[43mget_watermark\u001b[49m\u001b[43m(\u001b[49m\n\u001b[32m     21\u001b[39m \u001b[43m    \u001b[49m\u001b[43mwatermarked\u001b[49m\u001b[43m.\u001b[49m\u001b[43munsqueeze\u001b[49m\u001b[43m(\u001b[49m\u001b[32;43m0\u001b[39;49m\u001b[43m)\u001b[49m\u001b[43m,\u001b[49m\n\u001b[32m     22\u001b[39m \u001b[43m    \u001b[49m\u001b[43msample_rate\u001b[49m\u001b[43m=\u001b[49m\u001b[43msr\u001b[49m\u001b[43m,\u001b[49m\n\u001b[32m     23\u001b[39m \u001b[43m    \u001b[49m\u001b[43mmessage\u001b[49m\u001b[43m=\u001b[49m\u001b[43mmsg\u001b[49m\n\u001b[32m     24\u001b[39m \u001b[43m\u001b[49m\u001b[43m)\u001b[49m\n\u001b[32m     25\u001b[39m watermarked += alpha * watermark.squeeze()\n\u001b[32m     27\u001b[39m \u001b[38;5;66;03m# 3. Calculate metrics\u001b[39;00m\n",
      "\u001b[36mFile \u001b[39m\u001b[32m~\\AppData\\Local\\Programs\\Python\\Python313\\Lib\\site-packages\\audioseal\\models.py:109\u001b[39m, in \u001b[36mAudioSealWM.get_watermark\u001b[39m\u001b[34m(self, x, sample_rate, message)\u001b[39m\n\u001b[32m    107\u001b[39m \u001b[38;5;28;01mif\u001b[39;00m sample_rate != \u001b[32m16000\u001b[39m:\n\u001b[32m    108\u001b[39m     x = julius.resample_frac(x, old_sr=sample_rate, new_sr=\u001b[32m16000\u001b[39m)\n\u001b[32m--> \u001b[39m\u001b[32m109\u001b[39m hidden = \u001b[38;5;28;43mself\u001b[39;49m\u001b[43m.\u001b[49m\u001b[43mencoder\u001b[49m\u001b[43m(\u001b[49m\u001b[43mx\u001b[49m\u001b[43m)\u001b[49m\n\u001b[32m    111\u001b[39m \u001b[38;5;28;01mif\u001b[39;00m \u001b[38;5;28mself\u001b[39m.msg_processor \u001b[38;5;129;01mis\u001b[39;00m \u001b[38;5;129;01mnot\u001b[39;00m \u001b[38;5;28;01mNone\u001b[39;00m:\n\u001b[32m    112\u001b[39m     \u001b[38;5;28;01mif\u001b[39;00m message \u001b[38;5;129;01mis\u001b[39;00m \u001b[38;5;28;01mNone\u001b[39;00m:\n",
      "\u001b[36mFile \u001b[39m\u001b[32m~\\AppData\\Local\\Programs\\Python\\Python313\\Lib\\site-packages\\torch\\nn\\modules\\module.py:1739\u001b[39m, in \u001b[36mModule._wrapped_call_impl\u001b[39m\u001b[34m(self, *args, **kwargs)\u001b[39m\n\u001b[32m   1737\u001b[39m     \u001b[38;5;28;01mreturn\u001b[39;00m \u001b[38;5;28mself\u001b[39m._compiled_call_impl(*args, **kwargs)  \u001b[38;5;66;03m# type: ignore[misc]\u001b[39;00m\n\u001b[32m   1738\u001b[39m \u001b[38;5;28;01melse\u001b[39;00m:\n\u001b[32m-> \u001b[39m\u001b[32m1739\u001b[39m     \u001b[38;5;28;01mreturn\u001b[39;00m \u001b[38;5;28;43mself\u001b[39;49m\u001b[43m.\u001b[49m\u001b[43m_call_impl\u001b[49m\u001b[43m(\u001b[49m\u001b[43m*\u001b[49m\u001b[43margs\u001b[49m\u001b[43m,\u001b[49m\u001b[43m \u001b[49m\u001b[43m*\u001b[49m\u001b[43m*\u001b[49m\u001b[43mkwargs\u001b[49m\u001b[43m)\u001b[49m\n",
      "\u001b[36mFile \u001b[39m\u001b[32m~\\AppData\\Local\\Programs\\Python\\Python313\\Lib\\site-packages\\torch\\nn\\modules\\module.py:1750\u001b[39m, in \u001b[36mModule._call_impl\u001b[39m\u001b[34m(self, *args, **kwargs)\u001b[39m\n\u001b[32m   1745\u001b[39m \u001b[38;5;66;03m# If we don't have any hooks, we want to skip the rest of the logic in\u001b[39;00m\n\u001b[32m   1746\u001b[39m \u001b[38;5;66;03m# this function, and just call forward.\u001b[39;00m\n\u001b[32m   1747\u001b[39m \u001b[38;5;28;01mif\u001b[39;00m \u001b[38;5;129;01mnot\u001b[39;00m (\u001b[38;5;28mself\u001b[39m._backward_hooks \u001b[38;5;129;01mor\u001b[39;00m \u001b[38;5;28mself\u001b[39m._backward_pre_hooks \u001b[38;5;129;01mor\u001b[39;00m \u001b[38;5;28mself\u001b[39m._forward_hooks \u001b[38;5;129;01mor\u001b[39;00m \u001b[38;5;28mself\u001b[39m._forward_pre_hooks\n\u001b[32m   1748\u001b[39m         \u001b[38;5;129;01mor\u001b[39;00m _global_backward_pre_hooks \u001b[38;5;129;01mor\u001b[39;00m _global_backward_hooks\n\u001b[32m   1749\u001b[39m         \u001b[38;5;129;01mor\u001b[39;00m _global_forward_hooks \u001b[38;5;129;01mor\u001b[39;00m _global_forward_pre_hooks):\n\u001b[32m-> \u001b[39m\u001b[32m1750\u001b[39m     \u001b[38;5;28;01mreturn\u001b[39;00m \u001b[43mforward_call\u001b[49m\u001b[43m(\u001b[49m\u001b[43m*\u001b[49m\u001b[43margs\u001b[49m\u001b[43m,\u001b[49m\u001b[43m \u001b[49m\u001b[43m*\u001b[49m\u001b[43m*\u001b[49m\u001b[43mkwargs\u001b[49m\u001b[43m)\u001b[49m\n\u001b[32m   1752\u001b[39m result = \u001b[38;5;28;01mNone\u001b[39;00m\n\u001b[32m   1753\u001b[39m called_always_called_hooks = \u001b[38;5;28mset\u001b[39m()\n",
      "\u001b[36mFile \u001b[39m\u001b[32m~\\AppData\\Local\\Programs\\Python\\Python313\\Lib\\site-packages\\audioseal\\libs\\audiocraft\\modules\\seanet.py:236\u001b[39m, in \u001b[36mSEANetEncoder.forward\u001b[39m\u001b[34m(self, x)\u001b[39m\n\u001b[32m    235\u001b[39m \u001b[38;5;28;01mdef\u001b[39;00m\u001b[38;5;250m \u001b[39m\u001b[34mforward\u001b[39m(\u001b[38;5;28mself\u001b[39m, x):\n\u001b[32m--> \u001b[39m\u001b[32m236\u001b[39m     \u001b[38;5;28;01mreturn\u001b[39;00m \u001b[38;5;28;43mself\u001b[39;49m\u001b[43m.\u001b[49m\u001b[43mmodel\u001b[49m\u001b[43m(\u001b[49m\u001b[43mx\u001b[49m\u001b[43m)\u001b[49m\n",
      "\u001b[36mFile \u001b[39m\u001b[32m~\\AppData\\Local\\Programs\\Python\\Python313\\Lib\\site-packages\\torch\\nn\\modules\\module.py:1739\u001b[39m, in \u001b[36mModule._wrapped_call_impl\u001b[39m\u001b[34m(self, *args, **kwargs)\u001b[39m\n\u001b[32m   1737\u001b[39m     \u001b[38;5;28;01mreturn\u001b[39;00m \u001b[38;5;28mself\u001b[39m._compiled_call_impl(*args, **kwargs)  \u001b[38;5;66;03m# type: ignore[misc]\u001b[39;00m\n\u001b[32m   1738\u001b[39m \u001b[38;5;28;01melse\u001b[39;00m:\n\u001b[32m-> \u001b[39m\u001b[32m1739\u001b[39m     \u001b[38;5;28;01mreturn\u001b[39;00m \u001b[38;5;28;43mself\u001b[39;49m\u001b[43m.\u001b[49m\u001b[43m_call_impl\u001b[49m\u001b[43m(\u001b[49m\u001b[43m*\u001b[49m\u001b[43margs\u001b[49m\u001b[43m,\u001b[49m\u001b[43m \u001b[49m\u001b[43m*\u001b[49m\u001b[43m*\u001b[49m\u001b[43mkwargs\u001b[49m\u001b[43m)\u001b[49m\n",
      "\u001b[36mFile \u001b[39m\u001b[32m~\\AppData\\Local\\Programs\\Python\\Python313\\Lib\\site-packages\\torch\\nn\\modules\\module.py:1750\u001b[39m, in \u001b[36mModule._call_impl\u001b[39m\u001b[34m(self, *args, **kwargs)\u001b[39m\n\u001b[32m   1745\u001b[39m \u001b[38;5;66;03m# If we don't have any hooks, we want to skip the rest of the logic in\u001b[39;00m\n\u001b[32m   1746\u001b[39m \u001b[38;5;66;03m# this function, and just call forward.\u001b[39;00m\n\u001b[32m   1747\u001b[39m \u001b[38;5;28;01mif\u001b[39;00m \u001b[38;5;129;01mnot\u001b[39;00m (\u001b[38;5;28mself\u001b[39m._backward_hooks \u001b[38;5;129;01mor\u001b[39;00m \u001b[38;5;28mself\u001b[39m._backward_pre_hooks \u001b[38;5;129;01mor\u001b[39;00m \u001b[38;5;28mself\u001b[39m._forward_hooks \u001b[38;5;129;01mor\u001b[39;00m \u001b[38;5;28mself\u001b[39m._forward_pre_hooks\n\u001b[32m   1748\u001b[39m         \u001b[38;5;129;01mor\u001b[39;00m _global_backward_pre_hooks \u001b[38;5;129;01mor\u001b[39;00m _global_backward_hooks\n\u001b[32m   1749\u001b[39m         \u001b[38;5;129;01mor\u001b[39;00m _global_forward_hooks \u001b[38;5;129;01mor\u001b[39;00m _global_forward_pre_hooks):\n\u001b[32m-> \u001b[39m\u001b[32m1750\u001b[39m     \u001b[38;5;28;01mreturn\u001b[39;00m \u001b[43mforward_call\u001b[49m\u001b[43m(\u001b[49m\u001b[43m*\u001b[49m\u001b[43margs\u001b[49m\u001b[43m,\u001b[49m\u001b[43m \u001b[49m\u001b[43m*\u001b[49m\u001b[43m*\u001b[49m\u001b[43mkwargs\u001b[49m\u001b[43m)\u001b[49m\n\u001b[32m   1752\u001b[39m result = \u001b[38;5;28;01mNone\u001b[39;00m\n\u001b[32m   1753\u001b[39m called_always_called_hooks = \u001b[38;5;28mset\u001b[39m()\n",
      "\u001b[36mFile \u001b[39m\u001b[32m~\\AppData\\Local\\Programs\\Python\\Python313\\Lib\\site-packages\\torch\\nn\\modules\\container.py:250\u001b[39m, in \u001b[36mSequential.forward\u001b[39m\u001b[34m(self, input)\u001b[39m\n\u001b[32m    248\u001b[39m \u001b[38;5;28;01mdef\u001b[39;00m\u001b[38;5;250m \u001b[39m\u001b[34mforward\u001b[39m(\u001b[38;5;28mself\u001b[39m, \u001b[38;5;28minput\u001b[39m):\n\u001b[32m    249\u001b[39m     \u001b[38;5;28;01mfor\u001b[39;00m module \u001b[38;5;129;01min\u001b[39;00m \u001b[38;5;28mself\u001b[39m:\n\u001b[32m--> \u001b[39m\u001b[32m250\u001b[39m         \u001b[38;5;28minput\u001b[39m = \u001b[43mmodule\u001b[49m\u001b[43m(\u001b[49m\u001b[38;5;28;43minput\u001b[39;49m\u001b[43m)\u001b[49m\n\u001b[32m    251\u001b[39m     \u001b[38;5;28;01mreturn\u001b[39;00m \u001b[38;5;28minput\u001b[39m\n",
      "\u001b[36mFile \u001b[39m\u001b[32m~\\AppData\\Local\\Programs\\Python\\Python313\\Lib\\site-packages\\torch\\nn\\modules\\module.py:1739\u001b[39m, in \u001b[36mModule._wrapped_call_impl\u001b[39m\u001b[34m(self, *args, **kwargs)\u001b[39m\n\u001b[32m   1737\u001b[39m     \u001b[38;5;28;01mreturn\u001b[39;00m \u001b[38;5;28mself\u001b[39m._compiled_call_impl(*args, **kwargs)  \u001b[38;5;66;03m# type: ignore[misc]\u001b[39;00m\n\u001b[32m   1738\u001b[39m \u001b[38;5;28;01melse\u001b[39;00m:\n\u001b[32m-> \u001b[39m\u001b[32m1739\u001b[39m     \u001b[38;5;28;01mreturn\u001b[39;00m \u001b[38;5;28;43mself\u001b[39;49m\u001b[43m.\u001b[49m\u001b[43m_call_impl\u001b[49m\u001b[43m(\u001b[49m\u001b[43m*\u001b[49m\u001b[43margs\u001b[49m\u001b[43m,\u001b[49m\u001b[43m \u001b[49m\u001b[43m*\u001b[49m\u001b[43m*\u001b[49m\u001b[43mkwargs\u001b[49m\u001b[43m)\u001b[49m\n",
      "\u001b[36mFile \u001b[39m\u001b[32m~\\AppData\\Local\\Programs\\Python\\Python313\\Lib\\site-packages\\torch\\nn\\modules\\module.py:1750\u001b[39m, in \u001b[36mModule._call_impl\u001b[39m\u001b[34m(self, *args, **kwargs)\u001b[39m\n\u001b[32m   1745\u001b[39m \u001b[38;5;66;03m# If we don't have any hooks, we want to skip the rest of the logic in\u001b[39;00m\n\u001b[32m   1746\u001b[39m \u001b[38;5;66;03m# this function, and just call forward.\u001b[39;00m\n\u001b[32m   1747\u001b[39m \u001b[38;5;28;01mif\u001b[39;00m \u001b[38;5;129;01mnot\u001b[39;00m (\u001b[38;5;28mself\u001b[39m._backward_hooks \u001b[38;5;129;01mor\u001b[39;00m \u001b[38;5;28mself\u001b[39m._backward_pre_hooks \u001b[38;5;129;01mor\u001b[39;00m \u001b[38;5;28mself\u001b[39m._forward_hooks \u001b[38;5;129;01mor\u001b[39;00m \u001b[38;5;28mself\u001b[39m._forward_pre_hooks\n\u001b[32m   1748\u001b[39m         \u001b[38;5;129;01mor\u001b[39;00m _global_backward_pre_hooks \u001b[38;5;129;01mor\u001b[39;00m _global_backward_hooks\n\u001b[32m   1749\u001b[39m         \u001b[38;5;129;01mor\u001b[39;00m _global_forward_hooks \u001b[38;5;129;01mor\u001b[39;00m _global_forward_pre_hooks):\n\u001b[32m-> \u001b[39m\u001b[32m1750\u001b[39m     \u001b[38;5;28;01mreturn\u001b[39;00m \u001b[43mforward_call\u001b[49m\u001b[43m(\u001b[49m\u001b[43m*\u001b[49m\u001b[43margs\u001b[49m\u001b[43m,\u001b[49m\u001b[43m \u001b[49m\u001b[43m*\u001b[49m\u001b[43m*\u001b[49m\u001b[43mkwargs\u001b[49m\u001b[43m)\u001b[49m\n\u001b[32m   1752\u001b[39m result = \u001b[38;5;28;01mNone\u001b[39;00m\n\u001b[32m   1753\u001b[39m called_always_called_hooks = \u001b[38;5;28mset\u001b[39m()\n",
      "\u001b[36mFile \u001b[39m\u001b[32m~\\AppData\\Local\\Programs\\Python\\Python313\\Lib\\site-packages\\audioseal\\libs\\audiocraft\\modules\\conv.py:258\u001b[39m, in \u001b[36mStreamableConv1d.forward\u001b[39m\u001b[34m(self, x)\u001b[39m\n\u001b[32m    257\u001b[39m \u001b[38;5;28;01mdef\u001b[39;00m\u001b[38;5;250m \u001b[39m\u001b[34mforward\u001b[39m(\u001b[38;5;28mself\u001b[39m, x):\n\u001b[32m--> \u001b[39m\u001b[32m258\u001b[39m     B, C, T = x.shape\n\u001b[32m    259\u001b[39m     kernel_size = \u001b[38;5;28mself\u001b[39m.conv.conv.kernel_size[\u001b[32m0\u001b[39m]\n\u001b[32m    260\u001b[39m     stride = \u001b[38;5;28mself\u001b[39m.conv.conv.stride[\u001b[32m0\u001b[39m]\n",
      "\u001b[31mValueError\u001b[39m: not enough values to unpack (expected 3, got 2)"
     ]
    }
   ],
   "source": [
    "\n",
    "# %% [code]\n",
    "# Execute analysis with research parameters\n",
    "final_audio, metrics = incremental_watermark(\n",
    "    audio.squeeze(0),  # Remove channel dimension for processing\n",
    "    sr=22050,\n",
    "    num_watermarks=3,\n",
    "    alpha=0.18\n",
    ")"
   ]
  }
 ],
 "metadata": {
  "kernelspec": {
   "display_name": "Python 3 (ipykernel)",
   "language": "python",
   "name": "python3"
  },
  "language_info": {
   "codemirror_mode": {
    "name": "ipython",
    "version": 3
   },
   "file_extension": ".py",
   "mimetype": "text/x-python",
   "name": "python",
   "nbconvert_exporter": "python",
   "pygments_lexer": "ipython3",
   "version": "3.13.2"
  }
 },
 "nbformat": 4,
 "nbformat_minor": 5
}
