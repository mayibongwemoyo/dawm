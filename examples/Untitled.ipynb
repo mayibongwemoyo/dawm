{
 "cells": [
  {
   "cell_type": "code",
   "execution_count": 1,
   "id": "b10dbb7f-fa89-484a-a4f4-84202e920fcf",
   "metadata": {},
   "outputs": [
    {
     "name": "stdout",
     "output_type": "stream",
     "text": [
      "Requirement already satisfied: torchaudio in c:\\users\\x\\appdata\\local\\programs\\python\\python313\\lib\\site-packages (2.6.0)\n",
      "Requirement already satisfied: matplotlib in c:\\users\\x\\appdata\\local\\programs\\python\\python313\\lib\\site-packages (3.10.1)\n",
      "Requirement already satisfied: ipywidgets in c:\\users\\x\\appdata\\local\\programs\\python\\python313\\lib\\site-packages (8.1.5)\n",
      "Requirement already satisfied: torch==2.6.0 in c:\\users\\x\\appdata\\local\\programs\\python\\python313\\lib\\site-packages (from torchaudio) (2.6.0)\n",
      "Requirement already satisfied: filelock in c:\\users\\x\\appdata\\local\\programs\\python\\python313\\lib\\site-packages (from torch==2.6.0->torchaudio) (3.17.0)\n",
      "Requirement already satisfied: typing-extensions>=4.10.0 in c:\\users\\x\\appdata\\local\\programs\\python\\python313\\lib\\site-packages (from torch==2.6.0->torchaudio) (4.12.2)\n",
      "Requirement already satisfied: networkx in c:\\users\\x\\appdata\\local\\programs\\python\\python313\\lib\\site-packages (from torch==2.6.0->torchaudio) (3.4.2)\n",
      "Requirement already satisfied: jinja2 in c:\\users\\x\\appdata\\local\\programs\\python\\python313\\lib\\site-packages (from torch==2.6.0->torchaudio) (3.1.5)\n",
      "Requirement already satisfied: fsspec in c:\\users\\x\\appdata\\local\\programs\\python\\python313\\lib\\site-packages (from torch==2.6.0->torchaudio) (2025.2.0)\n",
      "Requirement already satisfied: setuptools in c:\\users\\x\\appdata\\local\\programs\\python\\python313\\lib\\site-packages (from torch==2.6.0->torchaudio) (75.8.2)\n",
      "Requirement already satisfied: sympy==1.13.1 in c:\\users\\x\\appdata\\local\\programs\\python\\python313\\lib\\site-packages (from torch==2.6.0->torchaudio) (1.13.1)\n",
      "Requirement already satisfied: mpmath<1.4,>=1.1.0 in c:\\users\\x\\appdata\\local\\programs\\python\\python313\\lib\\site-packages (from sympy==1.13.1->torch==2.6.0->torchaudio) (1.3.0)\n",
      "Requirement already satisfied: contourpy>=1.0.1 in c:\\users\\x\\appdata\\local\\programs\\python\\python313\\lib\\site-packages (from matplotlib) (1.3.1)\n",
      "Requirement already satisfied: cycler>=0.10 in c:\\users\\x\\appdata\\local\\programs\\python\\python313\\lib\\site-packages (from matplotlib) (0.12.1)\n",
      "Requirement already satisfied: fonttools>=4.22.0 in c:\\users\\x\\appdata\\local\\programs\\python\\python313\\lib\\site-packages (from matplotlib) (4.56.0)\n",
      "Requirement already satisfied: kiwisolver>=1.3.1 in c:\\users\\x\\appdata\\local\\programs\\python\\python313\\lib\\site-packages (from matplotlib) (1.4.8)\n",
      "Requirement already satisfied: numpy>=1.23 in c:\\users\\x\\appdata\\local\\programs\\python\\python313\\lib\\site-packages (from matplotlib) (2.2.3)\n",
      "Requirement already satisfied: packaging>=20.0 in c:\\users\\x\\appdata\\local\\programs\\python\\python313\\lib\\site-packages (from matplotlib) (24.2)\n",
      "Requirement already satisfied: pillow>=8 in c:\\users\\x\\appdata\\local\\programs\\python\\python313\\lib\\site-packages (from matplotlib) (11.1.0)\n",
      "Requirement already satisfied: pyparsing>=2.3.1 in c:\\users\\x\\appdata\\local\\programs\\python\\python313\\lib\\site-packages (from matplotlib) (3.2.1)\n",
      "Requirement already satisfied: python-dateutil>=2.7 in c:\\users\\x\\appdata\\local\\programs\\python\\python313\\lib\\site-packages (from matplotlib) (2.9.0.post0)\n",
      "Requirement already satisfied: comm>=0.1.3 in c:\\users\\x\\appdata\\local\\programs\\python\\python313\\lib\\site-packages (from ipywidgets) (0.2.2)\n",
      "Requirement already satisfied: ipython>=6.1.0 in c:\\users\\x\\appdata\\local\\programs\\python\\python313\\lib\\site-packages (from ipywidgets) (9.0.1)\n",
      "Requirement already satisfied: traitlets>=4.3.1 in c:\\users\\x\\appdata\\local\\programs\\python\\python313\\lib\\site-packages (from ipywidgets) (5.14.3)\n",
      "Requirement already satisfied: widgetsnbextension~=4.0.12 in c:\\users\\x\\appdata\\local\\programs\\python\\python313\\lib\\site-packages (from ipywidgets) (4.0.13)\n",
      "Requirement already satisfied: jupyterlab-widgets~=3.0.12 in c:\\users\\x\\appdata\\local\\programs\\python\\python313\\lib\\site-packages (from ipywidgets) (3.0.13)\n",
      "Requirement already satisfied: colorama in c:\\users\\x\\appdata\\local\\programs\\python\\python313\\lib\\site-packages (from ipython>=6.1.0->ipywidgets) (0.4.6)\n",
      "Requirement already satisfied: decorator in c:\\users\\x\\appdata\\local\\programs\\python\\python313\\lib\\site-packages (from ipython>=6.1.0->ipywidgets) (5.2.1)\n",
      "Requirement already satisfied: ipython-pygments-lexers in c:\\users\\x\\appdata\\local\\programs\\python\\python313\\lib\\site-packages (from ipython>=6.1.0->ipywidgets) (1.1.1)\n",
      "Requirement already satisfied: jedi>=0.16 in c:\\users\\x\\appdata\\local\\programs\\python\\python313\\lib\\site-packages (from ipython>=6.1.0->ipywidgets) (0.19.2)\n",
      "Requirement already satisfied: matplotlib-inline in c:\\users\\x\\appdata\\local\\programs\\python\\python313\\lib\\site-packages (from ipython>=6.1.0->ipywidgets) (0.1.7)\n",
      "Requirement already satisfied: prompt_toolkit<3.1.0,>=3.0.41 in c:\\users\\x\\appdata\\local\\programs\\python\\python313\\lib\\site-packages (from ipython>=6.1.0->ipywidgets) (3.0.50)\n",
      "Requirement already satisfied: pygments>=2.4.0 in c:\\users\\x\\appdata\\local\\programs\\python\\python313\\lib\\site-packages (from ipython>=6.1.0->ipywidgets) (2.19.1)\n",
      "Requirement already satisfied: stack_data in c:\\users\\x\\appdata\\local\\programs\\python\\python313\\lib\\site-packages (from ipython>=6.1.0->ipywidgets) (0.6.3)\n",
      "Requirement already satisfied: six>=1.5 in c:\\users\\x\\appdata\\local\\programs\\python\\python313\\lib\\site-packages (from python-dateutil>=2.7->matplotlib) (1.17.0)\n",
      "Requirement already satisfied: parso<0.9.0,>=0.8.4 in c:\\users\\x\\appdata\\local\\programs\\python\\python313\\lib\\site-packages (from jedi>=0.16->ipython>=6.1.0->ipywidgets) (0.8.4)\n",
      "Requirement already satisfied: wcwidth in c:\\users\\x\\appdata\\local\\programs\\python\\python313\\lib\\site-packages (from prompt_toolkit<3.1.0,>=3.0.41->ipython>=6.1.0->ipywidgets) (0.2.13)\n",
      "Requirement already satisfied: MarkupSafe>=2.0 in c:\\users\\x\\appdata\\local\\programs\\python\\python313\\lib\\site-packages (from jinja2->torch==2.6.0->torchaudio) (3.0.2)\n",
      "Requirement already satisfied: executing>=1.2.0 in c:\\users\\x\\appdata\\local\\programs\\python\\python313\\lib\\site-packages (from stack_data->ipython>=6.1.0->ipywidgets) (2.2.0)\n",
      "Requirement already satisfied: asttokens>=2.1.0 in c:\\users\\x\\appdata\\local\\programs\\python\\python313\\lib\\site-packages (from stack_data->ipython>=6.1.0->ipywidgets) (3.0.0)\n",
      "Requirement already satisfied: pure-eval in c:\\users\\x\\appdata\\local\\programs\\python\\python313\\lib\\site-packages (from stack_data->ipython>=6.1.0->ipywidgets) (0.2.3)\n"
     ]
    }
   ],
   "source": [
    "# Install dependencies\n",
    "!pip install torchaudio matplotlib ipywidgets\n",
    "\n",
    "# %% [code]\n",
    "import torch\n",
    "import torchaudio\n",
    "from audioseal import AudioSeal\n",
    "from IPython.display import display, HTML, Audio\n",
    "import matplotlib.pyplot as plt"
   ]
  },
  {
   "cell_type": "code",
   "execution_count": 2,
   "id": "ef7268be-1b12-47b5-992c-dbe7d1ee7e53",
   "metadata": {},
   "outputs": [],
   "source": [
    "# Custom visualization functions\n",
    "def plot_waveform_and_specgram(waveform, sr, title=\"Audio\"):\n",
    "    waveform = waveform.numpy().squeeze()\n",
    "    \n",
    "    plt.figure(figsize=(20, 4))\n",
    "    plt.subplot(1, 2, 1)\n",
    "    plt.plot(waveform)\n",
    "    plt.title(f\"{title} Waveform\")\n",
    "    \n",
    "    plt.subplot(1, 2, 2)\n",
    "    plt.specgram(waveform, Fs=sr)\n",
    "    plt.title(f\"{title} Spectrogram\")\n",
    "    plt.show()"
   ]
  },
  {
   "cell_type": "code",
   "execution_count": 3,
   "id": "d0ec029a-fb9f-4f07-9e5b-d0329a40b605",
   "metadata": {},
   "outputs": [],
   "source": [
    "# %% [code]\n",
    "# Initialize models with proper error handling\n",
    "try:\n",
    "    generator = AudioSeal.load_generator(\"audioseal_wm_16bits\")\n",
    "    detector = AudioSeal.load_detector(\"audioseal_detector_16bits\")\n",
    "except Exception as e:\n",
    "    print(f\"Error loading models: {e}\")\n",
    "    raise"
   ]
  },
  {
   "cell_type": "code",
   "execution_count": 4,
   "id": "00f5dbab-a706-44e7-a8fb-39fa86cc4e12",
   "metadata": {},
   "outputs": [
    {
     "name": "stdout",
     "output_type": "stream",
     "text": [
      "Original audio shape: torch.Size([1, 1, 16000])\n"
     ]
    }
   ],
   "source": [
    "# %% [code]\n",
    "# Generate test audio with correct dimensions [batch=1, channels=1, samples]\n",
    "original_audio = torch.randn(1, 1, 16000)  # 1s @16kHz\n",
    "sr = 16000\n",
    "\n",
    "# Verify input shape\n",
    "print(\"Original audio shape:\", original_audio.shape)\n"
   ]
  },
  {
   "cell_type": "code",
   "execution_count": 5,
   "id": "0d935c13-1ccf-4e35-8656-52da05f19857",
   "metadata": {},
   "outputs": [
    {
     "name": "stdout",
     "output_type": "stream",
     "text": [
      "\n",
      "After embedding watermark 1:\n",
      "--------------------------------------------------\n",
      "Watermark 1: BER=0.50, Detection Prob=0.26\n",
      "\n",
      "After embedding watermark 2:\n",
      "--------------------------------------------------\n",
      "Watermark 1: BER=0.56, Detection Prob=0.32\n",
      "Watermark 2: BER=0.50, Detection Prob=0.32\n",
      "\n",
      "After embedding watermark 3:\n",
      "--------------------------------------------------\n",
      "Watermark 1: BER=0.62, Detection Prob=0.43\n",
      "Watermark 2: BER=0.56, Detection Prob=0.43\n",
      "Watermark 3: BER=0.50, Detection Prob=0.43\n"
     ]
    }
   ],
   "source": [
    "# %% [code]\n",
    "# Embed 3 watermarks sequentially with visualization\n",
    "messages = [torch.randint(0, 2, (1, 16)) for _ in range(3)]\n",
    "watermarked_audio = original_audio.clone()\n",
    "alpha = 0.25  # Reduced strength for multi-watermarking\n",
    "\n",
    "for idx, msg in enumerate(messages):\n",
    "    # --- Embedding Phase ---\n",
    "    # Ensure proper 3D input: [batch=1, channels=1, samples]\n",
    "    watermark = generator.get_watermark(\n",
    "        watermarked_audio,\n",
    "        sample_rate=sr,\n",
    "        message=msg\n",
    "    )\n",
    "    watermarked_audio = watermarked_audio + alpha * watermark\n",
    "    \n",
    "    # --- Detection Phase ---\n",
    "    print(f\"\\nAfter embedding watermark {idx+1}:\")\n",
    "    print(\"-\" * 50)\n",
    "    \n",
    "    # Detect all existing watermarks\n",
    "    for detect_idx in range(idx + 1):\n",
    "        detector.message = messages[detect_idx]  # Reset detector state\n",
    "        prob, decoded_msg = detector.detect_watermark(\n",
    "            watermarked_audio, \n",
    "            sample_rate=sr\n",
    "        )\n",
    "        ber = (messages[detect_idx] != decoded_msg.round()).float().mean()\n",
    "        print(f\"Watermark {detect_idx+1}: BER={ber:.2f}, Detection Prob={prob:.2f}\")"
   ]
  },
  {
   "cell_type": "code",
   "execution_count": 6,
   "id": "5c82204a-6d14-41f4-9a4c-d107c35d7af4",
   "metadata": {},
   "outputs": [
    {
     "name": "stdout",
     "output_type": "stream",
     "text": [
      "\n",
      "Final Results:\n",
      "==================================================\n"
     ]
    }
   ],
   "source": [
    "\n",
    "# %% [code]\n",
    "# Final visualization (outside loop)\n",
    "print(\"\\nFinal Results:\")\n",
    "print(\"=\" * 50)"
   ]
  },
  {
   "cell_type": "code",
   "execution_count": 7,
   "id": "3e053b67-d39f-49e3-8f7f-1470f5035e3b",
   "metadata": {},
   "outputs": [
    {
     "name": "stdout",
     "output_type": "stream",
     "text": [
      "Final SNR: 32.43 dB\n"
     ]
    }
   ],
   "source": [
    "# Calculate SNR\n",
    "noise = watermarked_audio - original_audio\n",
    "snr = 10 * torch.log10(original_audio.pow(2).mean() / noise.pow(2).mean())\n",
    "print(f\"Final SNR: {snr:.2f} dB\")\n"
   ]
  },
  {
   "cell_type": "code",
   "execution_count": 8,
   "id": "2ad6de81-b485-426a-8ab5-829a4b9c9f69",
   "metadata": {},
   "outputs": [
    {
     "ename": "RuntimeError",
     "evalue": "Can't call numpy() on Tensor that requires grad. Use tensor.detach().numpy() instead.",
     "output_type": "error",
     "traceback": [
      "\u001b[31m---------------------------------------------------------------------------\u001b[39m",
      "\u001b[31mRuntimeError\u001b[39m                              Traceback (most recent call last)",
      "\u001b[36mCell\u001b[39m\u001b[36m \u001b[39m\u001b[32mIn[8]\u001b[39m\u001b[32m, line 2\u001b[39m\n\u001b[32m      1\u001b[39m \u001b[38;5;66;03m# Visualize audio\u001b[39;00m\n\u001b[32m----> \u001b[39m\u001b[32m2\u001b[39m \u001b[43mplot_waveform_and_specgram\u001b[49m\u001b[43m(\u001b[49m\u001b[43mwatermarked_audio\u001b[49m\u001b[43m.\u001b[49m\u001b[43msqueeze\u001b[49m\u001b[43m(\u001b[49m\u001b[43m)\u001b[49m\u001b[43m,\u001b[49m\u001b[43m \u001b[49m\u001b[43msr\u001b[49m\u001b[43m,\u001b[49m\u001b[43m \u001b[49m\u001b[33;43m\"\u001b[39;49m\u001b[33;43mMulti-Watermarked Audio\u001b[39;49m\u001b[33;43m\"\u001b[39;49m\u001b[43m)\u001b[49m\n\u001b[32m      3\u001b[39m display(Audio(watermarked_audio.squeeze().numpy(), rate=sr))\n",
      "\u001b[36mCell\u001b[39m\u001b[36m \u001b[39m\u001b[32mIn[2]\u001b[39m\u001b[32m, line 3\u001b[39m, in \u001b[36mplot_waveform_and_specgram\u001b[39m\u001b[34m(waveform, sr, title)\u001b[39m\n\u001b[32m      2\u001b[39m \u001b[38;5;28;01mdef\u001b[39;00m\u001b[38;5;250m \u001b[39m\u001b[34mplot_waveform_and_specgram\u001b[39m(waveform, sr, title=\u001b[33m\"\u001b[39m\u001b[33mAudio\u001b[39m\u001b[33m\"\u001b[39m):\n\u001b[32m----> \u001b[39m\u001b[32m3\u001b[39m     waveform = \u001b[43mwaveform\u001b[49m\u001b[43m.\u001b[49m\u001b[43mnumpy\u001b[49m\u001b[43m(\u001b[49m\u001b[43m)\u001b[49m.squeeze()\n\u001b[32m      5\u001b[39m     plt.figure(figsize=(\u001b[32m20\u001b[39m, \u001b[32m4\u001b[39m))\n\u001b[32m      6\u001b[39m     plt.subplot(\u001b[32m1\u001b[39m, \u001b[32m2\u001b[39m, \u001b[32m1\u001b[39m)\n",
      "\u001b[31mRuntimeError\u001b[39m: Can't call numpy() on Tensor that requires grad. Use tensor.detach().numpy() instead."
     ]
    }
   ],
   "source": [
    "# Visualize audio\n",
    "plot_waveform_and_specgram(watermarked_audio.squeeze(), sr, \"Multi-Watermarked Audio\")\n",
    "display(Audio(watermarked_audio.squeeze().numpy(), rate=sr))"
   ]
  }
 ],
 "metadata": {
  "kernelspec": {
   "display_name": "Python 3 (ipykernel)",
   "language": "python",
   "name": "python3"
  },
  "language_info": {
   "codemirror_mode": {
    "name": "ipython",
    "version": 3
   },
   "file_extension": ".py",
   "mimetype": "text/x-python",
   "name": "python",
   "nbconvert_exporter": "python",
   "pygments_lexer": "ipython3",
   "version": "3.13.2"
  }
 },
 "nbformat": 4,
 "nbformat_minor": 5
}
