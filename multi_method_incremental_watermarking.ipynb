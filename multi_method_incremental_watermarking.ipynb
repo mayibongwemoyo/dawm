{
  "nbformat": 4,
  "nbformat_minor": 0,
  "metadata": {
    "colab": {
      "provenance": [],
      "authorship_tag": "ABX9TyP/8QK6gEsKkjhiJwdqrXLF",
      "include_colab_link": true
    },
    "kernelspec": {
      "name": "python3",
      "display_name": "Python 3"
    },
    "language_info": {
      "name": "python"
    }
  },
  "cells": [
    {
      "cell_type": "markdown",
      "metadata": {
        "id": "view-in-github",
        "colab_type": "text"
      },
      "source": [
        "<a href=\"https://colab.research.google.com/github/mayibongwemoyo/dawm/blob/main/multi_method_incremental_watermarking.ipynb\" target=\"_parent\"><img src=\"https://colab.research.google.com/assets/colab-badge.svg\" alt=\"Open In Colab\"/></a>"
      ]
    },
    {
      "cell_type": "code",
      "source": [
        "%%capture\n",
        "\n",
        "import sys\n",
        "!pip install torchaudio soundfile matplotlib scipy datasets pandas seaborn\n",
        "!pip install audioseal"
      ],
      "metadata": {
        "id": "Yt5hj1VHEhGq"
      },
      "execution_count": 1,
      "outputs": []
    },
    {
      "cell_type": "code",
      "source": [
        "from google.colab import drive\n",
        "drive.mount('/content/drive')"
      ],
      "metadata": {
        "colab": {
          "base_uri": "https://localhost:8080/"
        },
        "id": "_6ZYyKXZFo8F",
        "outputId": "9075eec5-8037-4a7e-b972-d3f9913e103e"
      },
      "execution_count": 2,
      "outputs": [
        {
          "output_type": "stream",
          "name": "stdout",
          "text": [
            "Drive already mounted at /content/drive; to attempt to forcibly remount, call drive.mount(\"/content/drive\", force_remount=True).\n"
          ]
        }
      ]
    },
    {
      "cell_type": "code",
      "execution_count": 3,
      "metadata": {
        "colab": {
          "base_uri": "https://localhost:8080/",
          "height": 383
        },
        "id": "Xj7FNWKoB7Wh",
        "outputId": "672f15a3-43c3-4bc0-d137-8bbdf0d831a3"
      },
      "outputs": [
        {
          "output_type": "error",
          "ename": "ModuleNotFoundError",
          "evalue": "No module named 'noteb00k'",
          "traceback": [
            "\u001b[0;31m---------------------------------------------------------------------------\u001b[0m",
            "\u001b[0;31mModuleNotFoundError\u001b[0m                       Traceback (most recent call last)",
            "\u001b[0;32m<ipython-input-3-8a44d06d7de2>\u001b[0m in \u001b[0;36m<cell line: 0>\u001b[0;34m()\u001b[0m\n\u001b[1;32m      1\u001b[0m \u001b[0;32mimport\u001b[0m \u001b[0msys\u001b[0m\u001b[0;34m\u001b[0m\u001b[0;34m\u001b[0m\u001b[0m\n\u001b[1;32m      2\u001b[0m \u001b[0msys\u001b[0m\u001b[0;34m.\u001b[0m\u001b[0mpath\u001b[0m\u001b[0;34m.\u001b[0m\u001b[0mappend\u001b[0m\u001b[0;34m(\u001b[0m\u001b[0;34m'content/drive/MyDrive/dawm/examples'\u001b[0m\u001b[0;34m)\u001b[0m\u001b[0;34m\u001b[0m\u001b[0;34m\u001b[0m\u001b[0m\n\u001b[0;32m----> 3\u001b[0;31m \u001b[0;32mimport\u001b[0m \u001b[0mnoteb00k\u001b[0m\u001b[0;34m\u001b[0m\u001b[0;34m\u001b[0m\u001b[0m\n\u001b[0m\u001b[1;32m      4\u001b[0m \u001b[0;32mfrom\u001b[0m \u001b[0mdatasets\u001b[0m \u001b[0;32mimport\u001b[0m \u001b[0mload_dataset\u001b[0m\u001b[0;34m\u001b[0m\u001b[0;34m\u001b[0m\u001b[0m\n\u001b[1;32m      5\u001b[0m \u001b[0;32mimport\u001b[0m \u001b[0mpandas\u001b[0m \u001b[0;32mas\u001b[0m \u001b[0mpd\u001b[0m\u001b[0;34m\u001b[0m\u001b[0;34m\u001b[0m\u001b[0m\n",
            "\u001b[0;31mModuleNotFoundError\u001b[0m: No module named 'noteb00k'",
            "",
            "\u001b[0;31m---------------------------------------------------------------------------\u001b[0;32m\nNOTE: If your import is failing due to a missing package, you can\nmanually install dependencies using either !pip or !apt.\n\nTo view examples of installing some common dependencies, click the\n\"Open Examples\" button below.\n\u001b[0;31m---------------------------------------------------------------------------\u001b[0m\n"
          ],
          "errorDetails": {
            "actions": [
              {
                "action": "open_url",
                "actionText": "Open Examples",
                "url": "/notebooks/snippets/importing_libraries.ipynb"
              }
            ]
          }
        }
      ],
      "source": [
        "import sys\n",
        "sys.path.append('content/drive/MyDrive/dawm/examples')\n",
        "import noteb00k\n",
        "from datasets import load_dataset\n",
        "import pandas as pd\n",
        "import seaborn as sns\n",
        "import matplotlib.pyplot as plt\n",
        "import torch\n",
        "import torchaudio\n",
        "import numpy as np\n",
        "from scipy import stats\n",
        "from audioseal import AudioSeal\n",
        "\n",
        "\n",
        "# Constants\n",
        "NUM_AUDIOS_PER_METHOD = 10\n",
        "NUM_WATERMARKS = 4\n",
        "SAMPLE_RATE = 16000\n",
        "\n",
        "# Initialize models\n",
        "generator = AudioSeal.load_generator(\"audioseal_wm_16bits\")\n",
        "detector = AudioSeal.load_detector(\"audioseal_detector_16bits\")"
      ]
    },
    {
      "cell_type": "code",
      "source": [
        "def embed_sfa(audio, sr, alpha=0.3):\n",
        "    \"\"\"Sequential Fixed Alpha\"\"\"\n",
        "    watermarked = audio.clone()\n",
        "    metrics = []\n",
        "    for i in range(NUM_WATERMARKS):\n",
        "        watermarked = generator(watermarked, sr, alpha=alpha)\n",
        "        metrics.append(calculate_metrics(audio, watermarked))\n",
        "    return watermarked, metrics\n",
        "\n",
        "def embed_sda(audio, sr):\n",
        "    \"\"\"Sequential Decaying Alpha\"\"\"\n",
        "    watermarked = audio.clone()\n",
        "    metrics = []\n",
        "    for i in range(NUM_WATERMARKS):\n",
        "        alpha = 0.5 / (i + 1)\n",
        "        watermarked = generator(watermarked, sr, alpha=alpha)\n",
        "        metrics.append(calculate_metrics(audio, watermarked))\n",
        "    return watermarked, metrics\n",
        "\n",
        "def embed_pfb(audio, sr, alpha=0.2):\n",
        "    \"\"\"Parallel Frequency Bands\"\"\"\n",
        "    # Split into 4 frequency bands\n",
        "    fft = torch.fft.fft(audio)\n",
        "    bands = torch.chunk(fft, 4, dim=-1)\n",
        "\n",
        "    # Embed in each band\n",
        "    watermarked_bands = []\n",
        "    for band in bands:\n",
        "        wm_band = generator(band.real, sr, alpha=alpha) + 1j*band.imag\n",
        "        watermarked_bands.append(wm_band)\n",
        "\n",
        "    # Reconstruct\n",
        "    watermarked = torch.fft.ifft(torch.cat(watermarked_bands, dim=-1)).real\n",
        "    return watermarked, [calculate_metrics(audio, watermarked)]*4"
      ],
      "metadata": {
        "id": "kEGKNXe3DFVf"
      },
      "execution_count": null,
      "outputs": []
    },
    {
      "cell_type": "code",
      "source": [
        "def calculate_metrics(original, watermarked):\n",
        "    noise = watermarked - original\n",
        "    snr = 10 * torch.log10(original.pow(2).mean() / noise.pow(2).mean()).item()\n",
        "\n",
        "    # Test detection\n",
        "    msg = torch.randint(0, 2, (1, 16))\n",
        "    detector.message = msg\n",
        "    prob, detected = detector.detect_watermark(watermarked, sr)\n",
        "    ber = (msg != detected.round()).float().mean().item()\n",
        "\n",
        "    return {\n",
        "        \"snr\": snr,\n",
        "        \"ber\": ber,\n",
        "        \"detection_prob\": prob.item() if hasattr(prob, 'item') else prob\n",
        "    }"
      ],
      "metadata": {
        "id": "rl1N9qclDJAs"
      },
      "execution_count": null,
      "outputs": []
    },
    {
      "cell_type": "code",
      "source": [
        "def process_batch(method_func, audios):\n",
        "    results = []\n",
        "    for audio, sr in audios[:NUM_AUDIOS_PER_METHOD]:\n",
        "        audio = preprocess_audio(audio, sr)\n",
        "        _, metrics = method_func(audio, SAMPLE_RATE)\n",
        "        results.extend(metrics)\n",
        "    return pd.DataFrame(results)"
      ],
      "metadata": {
        "id": "uEe0BanyDMBr"
      },
      "execution_count": null,
      "outputs": []
    },
    {
      "cell_type": "code",
      "source": [
        "# Load dataset\n",
        "dataset = load_dataset(\"facebook/voxpopuli\", \"en\", split=\"validation\", streaming=True)\n",
        "audios = [(torch.tensor(e[\"audio\"][\"array\"]).float(), e[\"audio\"][\"sampling_rate\"]) for e in dataset]\n",
        "\n",
        "# Process all methods\n",
        "methods = {\n",
        "    \"SFA\": embed_sfa,\n",
        "    \"SDA\": embed_sda,\n",
        "    \"PFB\": embed_pfb\n",
        "}\n",
        "\n",
        "results = {name: process_batch(func, audios) for name, func in methods.items()}"
      ],
      "metadata": {
        "id": "BxK4zzK8DfdC"
      },
      "execution_count": null,
      "outputs": []
    },
    {
      "cell_type": "code",
      "source": [
        "# ANOVA test for SNR differences\n",
        "f_val, p_val = stats.f_oneway(\n",
        "    results[\"SFA\"][\"snr\"],\n",
        "    results[\"SDA\"][\"snr\"],\n",
        "    results[\"PFB\"][\"snr\"]\n",
        ")\n",
        "print(f\"SNR ANOVA: F={f_val:.2f}, p={p_val:.4f}\")\n",
        "\n",
        "# Pairwise t-tests for BER\n",
        "from itertools import combinations\n",
        "for (m1, m2) in combinations(methods.keys(), 2):\n",
        "    t, p = stats.ttest_ind(results[m1][\"ber\"], results[m2][\"ber\"])\n",
        "    print(f\"{m1} vs {m2} BER: t={t:.2f}, p={p:.4f}\")"
      ],
      "metadata": {
        "id": "tLir8ew8DipU"
      },
      "execution_count": null,
      "outputs": []
    },
    {
      "cell_type": "code",
      "source": [
        "def plot_metric(metric, ylabel):\n",
        "    plt.figure(figsize=(10, 6))\n",
        "    sns.lineplot(\n",
        "        data=pd.concat({k: v[metric] for k, v in results.items()}, axis=1).melt(),\n",
        "        x=\"variable\", y=\"value\", hue=\"Method\",\n",
        "        marker=\"o\", ci=95\n",
        "    )\n",
        "    plt.title(f\"Comparison of {metric.upper()} Across Methods\")\n",
        "    plt.xlabel(\"Watermark Index\")\n",
        "    plt.ylabel(ylabel)\n",
        "    plt.show()\n",
        "\n",
        "plot_metric(\"snr\", \"SNR (dB)\")\n",
        "plot_metric(\"ber\", \"Bit Error Rate\")\n",
        "plot_metric(\"detection_prob\", \"Detection Probability\")"
      ],
      "metadata": {
        "id": "0UhY9T2wDmgF"
      },
      "execution_count": null,
      "outputs": []
    },
    {
      "cell_type": "code",
      "source": [
        "# Plot spectrograms\n",
        "def plot_spectrogram(audio, title):\n",
        "    plt.specgram(audio.numpy().squeeze(), Fs=SAMPLE_RATE)\n",
        "    plt.title(title)\n",
        "    plt.show()\n",
        "\n",
        "for method in methods:\n",
        "    example_audio, _ = methods[method](audios[0][0], SAMPLE_RATE)\n",
        "    plot_spectrogram(example_audio, f\"{method} Watermarked Audio\")"
      ],
      "metadata": {
        "id": "uC88d7JZDqsn"
      },
      "execution_count": null,
      "outputs": []
    },
    {
      "cell_type": "code",
      "source": [
        "from IPython.display import Audio\n",
        "\n",
        "def play_audio(audio, sr):\n",
        "    display(Audio(audio.numpy().squeeze(), rate=sr))\n",
        "\n",
        "print(\"Original Audio:\")\n",
        "play_audio(audios[0][0], SAMPLE_RATE)\n",
        "\n",
        "for method in methods:\n",
        "    example_audio, _ = methods[method](audios[0][0], SAMPLE_RATE)\n",
        "    print(f\"{method} Watermarked Audio:\")\n",
        "    play_audio(example_audio, SAMPLE_RATE)"
      ],
      "metadata": {
        "id": "qUEydUA0DvAr"
      },
      "execution_count": null,
      "outputs": []
    }
  ]
}